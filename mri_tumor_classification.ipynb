{
 "cells": [
  {
   "cell_type": "markdown",
   "id": "fc5a6f5a-bf6e-4ca5-b799-2323fdb7237d",
   "metadata": {},
   "source": [
    "# MRI Brain Tumor Classification"
   ]
  },
  {
   "cell_type": "markdown",
   "id": "1966caa1",
   "metadata": {},
   "source": [
    "### Introduction"
   ]
  },
  {
   "cell_type": "markdown",
   "id": "a39c0e96",
   "metadata": {},
   "source": [
    "This is a personal project to practice image classification using tensorflow. The project should be run in WSL to utilize GPU acceleration to speed up training. \n",
    "\n",
    "The following __[dataset](https://www.kaggle.com/datasets/masoudnickparvar/brain-tumor-mri-dataset/data)__ is used for this project. The training and testing data is already separated by the creator of the dataset, so I will be using that split.\n"
   ]
  },
  {
   "cell_type": "markdown",
   "id": "e8cde061-3240-486d-b810-df2c03de8218",
   "metadata": {},
   "source": [
    "### Package Imports"
   ]
  },
  {
   "cell_type": "code",
   "execution_count": null,
   "id": "ef81472b-7391-4896-b6bb-fbc563b84daa",
   "metadata": {},
   "outputs": [],
   "source": [
    "import tensorflow as tf\n",
    "\n",
    "import pathlib\n",
    "from PIL import Image\n",
    "import numpy as np\n",
    "import matplotlib.pyplot as plt"
   ]
  },
  {
   "cell_type": "markdown",
   "id": "5c5cf9e8-0519-4966-90a9-c8f866fef048",
   "metadata": {},
   "source": [
    "#### Packages Used\n",
    "* Tensorflow for neural network\n",
    "* pathlib for accessing dataset location\n",
    "* PIL.Image for image processing\n",
    "* Numpy for algebra operations\n",
    "* Matplotlib.pyplot for data visualization"
   ]
  },
  {
   "cell_type": "markdown",
   "id": "e3973246-19b5-4ac9-81c6-c36461b90ab1",
   "metadata": {},
   "source": [
    "### Image Preprocessing"
   ]
  },
  {
   "cell_type": "code",
   "execution_count": null,
   "id": "be8653a8-82aa-4174-ab6b-7df2693b56b5",
   "metadata": {},
   "outputs": [],
   "source": [
    "data_dir = pathlib.Path('Dataset')\n",
    "train_dir = (data_dir / 'Training')\n",
    "test_dir = data_dir / 'Testing'\n",
    "\n",
    "batch_size = 64\n",
    "img_height = 256\n",
    "img_width = 256\n",
    "\n",
    "train_ds = tf.keras.utils.image_dataset_from_directory(\n",
    "    train_dir,\n",
    "    seed=000,\n",
    "    color_mode='grayscale',\n",
    "    image_size=(img_height, img_width),\n",
    "    batch_size=batch_size)\n",
    "\n",
    "val_ds = tf.keras.utils.image_dataset_from_directory(\n",
    "    test_dir,\n",
    "    seed=000,\n",
    "    color_mode='grayscale',\n",
    "    image_size=(img_height, img_width),\n",
    "    batch_size=batch_size)\n",
    "\n",
    "num_classes = len(train_ds.class_names)\n",
    "\n",
    "AUTOTUNE = tf.data.AUTOTUNE\n",
    "train_ds = train_ds.cache().prefetch(buffer_size=AUTOTUNE)\n",
    "val_ds = val_ds.cache().prefetch(buffer_size=AUTOTUNE)"
   ]
  },
  {
   "cell_type": "markdown",
   "id": "ac9b8cae",
   "metadata": {},
   "source": [
    "### Model Training"
   ]
  },
  {
   "cell_type": "code",
   "execution_count": null,
   "id": "6a9cbb91-6eff-4fc2-b023-8d96d017394c",
   "metadata": {},
   "outputs": [],
   "source": [
    "model = tf.keras.Sequential([\n",
    "  tf.keras.layers.Rescaling(1./255),\n",
    "  tf.keras.layers.Conv2D(32, 3, activation='relu'),\n",
    "  tf.keras.layers.MaxPooling2D(),\n",
    "  tf.keras.layers.Conv2D(32, 3, activation='relu'),\n",
    "  tf.keras.layers.MaxPooling2D(),\n",
    "  tf.keras.layers.Conv2D(32, 3, activation='relu'),\n",
    "  tf.keras.layers.MaxPooling2D(),\n",
    "  tf.keras.layers.Flatten(),\n",
    "  tf.keras.layers.Dense(128, activation='relu'),\n",
    "  tf.keras.layers.Dense(num_classes)\n",
    "])\n",
    "\n",
    "model.compile(\n",
    "  optimizer='adam',\n",
    "  loss=tf.keras.losses.SparseCategoricalCrossentropy(from_logits=True),\n",
    "  metrics=['accuracy'])\n",
    "\n",
    "model.fit(\n",
    "  train_ds,\n",
    "  validation_data=val_ds,\n",
    "  epochs=10\n",
    ")"
   ]
  },
  {
   "cell_type": "markdown",
   "id": "50483119",
   "metadata": {},
   "source": [
    "This was run directly through windows and did not have the GPU speedup that WSL would provide. With the speedup a single epoch lasts around 11s on my machine, so around a 6x speed-up. \n",
    "\n",
    "This model ended with a 96.64% accuracy on the test set. "
   ]
  },
  {
   "cell_type": "markdown",
   "id": "b0c858aa",
   "metadata": {},
   "source": [
    "### Results"
   ]
  },
  {
   "cell_type": "code",
   "execution_count": null,
   "id": "9bc85306",
   "metadata": {},
   "outputs": [],
   "source": [
    "class_names = [\"Glioma\", \"Meningioma\", \"No Tumor\", \"Pituitary\"]\n",
    "\n",
    "plt.figure(figsize=(10, 10))\n",
    "for images, labels in val_ds.take(1):\n",
    "    for i in range(9):\n",
    "        ax = plt.subplot(3, 3, i + 1)\n",
    "        plt.imshow(images[i].numpy())\n",
    "        plt.title(class_names[labels[i]])\n",
    "        plt.axis(\"off\")\n",
    "        plt.colorbar()\n",
    "\n",
    "plt.show()"
   ]
  },
  {
   "cell_type": "markdown",
   "id": "85979f6c",
   "metadata": {},
   "source": [
    "Here are some example images from the verification dataset. They are grayscale, but are represented here with colors for higher contrast."
   ]
  },
  {
   "cell_type": "code",
   "execution_count": null,
   "id": "6e5359ac",
   "metadata": {},
   "outputs": [],
   "source": [
    "probability_model = tf.keras.Sequential([model, tf.keras.layers.Softmax()])\n",
    "predictions = probability_model.predict(val_ds)\n",
    "\n",
    "class_names_short = ['G', 'M', 'N', 'P']\n",
    "\n",
    "j = 0\n",
    "color = ['red', 'red', 'red', 'red']\n",
    "\n",
    "for images, labels in val_ds.take(20):\n",
    "    print(class_names[labels[j]])\n",
    "    print(class_names[np.argmax(predictions[j])])\n",
    "\n",
    "    figure, (axis1, axis2) = plt.subplots(1, 2)\n",
    "    plt.title(class_names[labels[j]])\n",
    "    axis1.imshow(images[j].numpy())\n",
    "    #print(class_names[labels[0]])\n",
    "    #print(type(images[j].numpy()))\n",
    "    index_max = np.argmax(predictions[j])\n",
    "    color[labels[j].numpy()] = 'blue'\n",
    "    axis2.bar(class_names_short, predictions[j], width=0.3, color = color)\n",
    "    plt.xlabel(\"Prediction\")\n",
    "    plt.ylabel(\"Certainty\")\n",
    "    plt.title(\"Tumor Predictions\")\n",
    "    plt.show()\n",
    "    j+=1\n",
    "    for i in range(len(color)):\n",
    "        color[i] = 'red'\n"
   ]
  }
 ],
 "metadata": {
  "kernelspec": {
   "display_name": "Python 3 (ipykernel)",
   "language": "python",
   "name": "python3"
  },
  "language_info": {
   "codemirror_mode": {
    "name": "ipython",
    "version": 3
   },
   "file_extension": ".py",
   "mimetype": "text/x-python",
   "name": "python",
   "nbconvert_exporter": "python",
   "pygments_lexer": "ipython3",
   "version": "3.11.8"
  }
 },
 "nbformat": 4,
 "nbformat_minor": 5
}
