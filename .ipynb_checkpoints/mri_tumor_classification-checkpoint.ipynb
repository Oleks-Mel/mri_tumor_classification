{
 "cells": [
  {
   "cell_type": "markdown",
   "id": "fc5a6f5a-bf6e-4ca5-b799-2323fdb7237d",
   "metadata": {},
   "source": [
    "# MRI Brain Tumor Classification"
   ]
  },
  {
   "cell_type": "markdown",
   "id": "e8cde061-3240-486d-b810-df2c03de8218",
   "metadata": {},
   "source": [
    "### Package Imports"
   ]
  },
  {
   "cell_type": "code",
   "execution_count": 5,
   "id": "ef81472b-7391-4896-b6bb-fbc563b84daa",
   "metadata": {},
   "outputs": [],
   "source": [
    "import tensorflow as tf\n",
    "\n",
    "import os\n",
    "from PIL import Image\n",
    "import numpy as np\n",
    "import matplotlib.pyplot as plt"
   ]
  },
  {
   "cell_type": "markdown",
   "id": "5c5cf9e8-0519-4966-90a9-c8f866fef048",
   "metadata": {},
   "source": [
    "#### Packages Used\n",
    "* Tensorflow for neural network\n",
    "* OS for retrieving locally stored datasets\n",
    "* PIL.Image for image processing\n",
    "* Numpy for matrix operation\n",
    "* Matplotlib.pyplot for data Visualization"
   ]
  },
  {
   "cell_type": "markdown",
   "id": "e3973246-19b5-4ac9-81c6-c36461b90ab1",
   "metadata": {},
   "source": [
    "### Image Preporcessing"
   ]
  },
  {
   "cell_type": "code",
   "execution_count": 6,
   "id": "be8653a8-82aa-4174-ab6b-7df2693b56b5",
   "metadata": {},
   "outputs": [
    {
     "ename": "NameError",
     "evalue": "name 'r' is not defined",
     "output_type": "error",
     "traceback": [
      "\u001b[1;31m---------------------------------------------------------------------------\u001b[0m",
      "\u001b[1;31mNameError\u001b[0m                                 Traceback (most recent call last)",
      "Cell \u001b[1;32mIn[6], line 1\u001b[0m\n\u001b[1;32m----> 1\u001b[0m file \u001b[38;5;241m=\u001b[39m \u001b[38;5;28mopen\u001b[39m(\u001b[38;5;124m\"\u001b[39m\u001b[38;5;124mDataset\u001b[39m\u001b[38;5;124m\\\u001b[39m\u001b[38;5;124mTraining\u001b[39m\u001b[38;5;124m\\\u001b[39m\u001b[38;5;124mglioma\u001b[39m\u001b[38;5;124m\\\u001b[39m\u001b[38;5;124mTr-gl_0010.jpg\u001b[39m\u001b[38;5;124m\"\u001b[39m, \u001b[43mr\u001b[49m)\n",
      "\u001b[1;31mNameError\u001b[0m: name 'r' is not defined"
     ]
    }
   ],
   "source": [
    "file = open(\"Dataset\\Training\\glioma\\Tr-gl_0010.jpg\", r)"
   ]
  },
  {
   "cell_type": "code",
   "execution_count": null,
   "id": "6a9cbb91-6eff-4fc2-b023-8d96d017394c",
   "metadata": {},
   "outputs": [],
   "source": []
  }
 ],
 "metadata": {
  "kernelspec": {
   "display_name": "Python 3 (ipykernel)",
   "language": "python",
   "name": "python3"
  },
  "language_info": {
   "codemirror_mode": {
    "name": "ipython",
    "version": 3
   },
   "file_extension": ".py",
   "mimetype": "text/x-python",
   "name": "python",
   "nbconvert_exporter": "python",
   "pygments_lexer": "ipython3",
   "version": "3.11.8"
  }
 },
 "nbformat": 4,
 "nbformat_minor": 5
}
